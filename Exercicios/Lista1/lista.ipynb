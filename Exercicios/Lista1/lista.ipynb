{
 "cells": [
  {
   "cell_type": "markdown",
   "id": "4617454b",
   "metadata": {},
   "source": [
    "### 1"
   ]
  },
  {
   "cell_type": "code",
   "execution_count": 1,
   "id": "1c265de3",
   "metadata": {},
   "outputs": [
    {
     "name": "stdout",
     "output_type": "stream",
     "text": [
      "A soma de 5.0 e 4.0 multiplicada por 5.0 é igual a 45.0\n"
     ]
    }
   ],
   "source": [
    "a = float(input(\"Digite um número: \"))\n",
    "b = float(input(\"Digite outro número: \"))\n",
    "\n",
    "soma = a + b\n",
    "result = soma * a\n",
    "\n",
    "print(f\"A soma de {a} e {b} multiplicada por {a} é igual a {result}\")"
   ]
  },
  {
   "cell_type": "markdown",
   "id": "687a32db",
   "metadata": {},
   "source": [
    "### 2"
   ]
  },
  {
   "cell_type": "code",
   "execution_count": 3,
   "id": "2928f111",
   "metadata": {},
   "outputs": [
    {
     "name": "stdout",
     "output_type": "stream",
     "text": [
      "Para 8, seu antecessor é 7 e seu sucessor é 9.\n"
     ]
    }
   ],
   "source": [
    "n = int(input(\"Insira um número inteiro: \"))\n",
    "sucessor = n+1\n",
    "antecessor = n-1\n",
    "\n",
    "print(f\"Para {n}, seu antecessor é {antecessor} e seu sucessor é {sucessor}.\")"
   ]
  },
  {
   "cell_type": "markdown",
   "id": "4585a330",
   "metadata": {},
   "source": [
    "### 3"
   ]
  },
  {
   "cell_type": "code",
   "execution_count": 6,
   "id": "79e93aba",
   "metadata": {},
   "outputs": [
    {
     "name": "stdout",
     "output_type": "stream",
     "text": [
      "O dobro de 133 é 266 e o triplo é 399.0.\n"
     ]
    }
   ],
   "source": [
    "n = int(input(\"Insira um número inteiro: \"))\n",
    "dobro = n*2\n",
    "triplo = n*3\n",
    "\n",
    "print(f\"O dobro de {n} é {dobro} e o triplo é {triplo}.\")"
   ]
  },
  {
   "cell_type": "markdown",
   "id": "dd1ccb43",
   "metadata": {},
   "source": [
    "### 4"
   ]
  },
  {
   "cell_type": "code",
   "execution_count": 11,
   "id": "10dc4208",
   "metadata": {},
   "outputs": [
    {
     "name": "stdout",
     "output_type": "stream",
     "text": [
      "Resultado final: 640.0\n"
     ]
    }
   ],
   "source": [
    "c = 0\n",
    "soma = 0\n",
    "while c < 5:\n",
    "    n = float(input(\"Informe um número: \"))\n",
    "    if c == 0:\n",
    "        first = n\n",
    "    soma += n\n",
    "    c += 1\n",
    "result = soma * first\n",
    "\n",
    "print(f\"Resultado final: {result}\")"
   ]
  },
  {
   "cell_type": "markdown",
   "id": "d4936d6c",
   "metadata": {},
   "source": [
    "### 5"
   ]
  },
  {
   "cell_type": "code",
   "execution_count": 12,
   "id": "8f8f250f",
   "metadata": {},
   "outputs": [
    {
     "name": "stdout",
     "output_type": "stream",
     "text": [
      "Antecessor de 2: 1\n",
      "Sucessor de 2: 3\n",
      "\n",
      "\n",
      "Antecessor de 3: 2\n",
      "Sucessor de 3: 4\n",
      "\n",
      "\n",
      "Antecessor de 3: 2\n",
      "Sucessor de 3: 4\n",
      "\n",
      "\n",
      "Antecessor de 4: 3\n",
      "Sucessor de 4: 5\n",
      "\n",
      "\n",
      "Antecessor de 5: 4\n",
      "Sucessor de 5: 6\n",
      "\n",
      "\n"
     ]
    }
   ],
   "source": [
    "c = 0\n",
    "while c < 5:\n",
    "    n = int(input(\"Digite um número: \"))\n",
    "    antecessor = n - 1\n",
    "    sucessor = n + 1\n",
    "    print(f\"Antecessor de {n}: {antecessor}\\nSucessor de {n}: {sucessor}\\n\\n\")\n",
    "    c += 1"
   ]
  },
  {
   "cell_type": "markdown",
   "id": "2b59a53b",
   "metadata": {},
   "source": [
    "### 6"
   ]
  },
  {
   "cell_type": "code",
   "execution_count": 17,
   "id": "ebdab76b",
   "metadata": {},
   "outputs": [
    {
     "name": "stdout",
     "output_type": "stream",
     "text": [
      "9.0\n"
     ]
    }
   ],
   "source": [
    "a = float(input(\"Digite um número: \"))\n",
    "b = float(input(\"Digite outro número: \"))\n",
    "if a > b:\n",
    "    print(a)\n",
    "else:\n",
    "    print(b)"
   ]
  },
  {
   "cell_type": "markdown",
   "id": "22913f49",
   "metadata": {},
   "source": [
    "### 7"
   ]
  },
  {
   "cell_type": "code",
   "execution_count": 38,
   "id": "28669970",
   "metadata": {},
   "outputs": [
    {
     "name": "stdout",
     "output_type": "stream",
     "text": [
      "Digite números diferentes entre si.\n",
      "Digite números diferentes entre si.\n",
      "Digite números diferentes entre si.\n",
      "3.0\n"
     ]
    }
   ],
   "source": [
    "while True:\n",
    "    a = float(input(\"Digite o 1° número: \"))\n",
    "    b = float(input(\"Digite o 2° número: \"))\n",
    "    c = float(input(\"Digite o 3° número: \"))\n",
    "    if a != b and b != c and a != c:\n",
    "        break\n",
    "    print(\"Digite números diferentes entre si.\")\n",
    "if a > b and a > c:\n",
    "    print(a)\n",
    "else:\n",
    "    if b > c:\n",
    "        print(b)\n",
    "    else:\n",
    "        print(c)"
   ]
  },
  {
   "cell_type": "markdown",
   "id": "987aab06",
   "metadata": {},
   "source": [
    "### 8"
   ]
  },
  {
   "cell_type": "code",
   "execution_count": 45,
   "id": "4d33d20a",
   "metadata": {},
   "outputs": [
    {
     "name": "stdout",
     "output_type": "stream",
     "text": [
      "57.0 é ímpar.\n"
     ]
    }
   ],
   "source": [
    "n = float(input(\"Digite um número: \"))\n",
    "if n%2 == 0:\n",
    "    print(f\"{n} é par.\")\n",
    "else:\n",
    "    print(f\"{n} é ímpar.\")"
   ]
  },
  {
   "cell_type": "markdown",
   "id": "85e2b1c0",
   "metadata": {},
   "source": [
    "### 9"
   ]
  },
  {
   "cell_type": "code",
   "execution_count": null,
   "id": "1a18e792",
   "metadata": {},
   "outputs": [
    {
     "name": "stdout",
     "output_type": "stream",
     "text": [
      "Resultado da multiplicação 3.0 x -4.0: -12.0\n"
     ]
    }
   ],
   "source": [
    "fator1 = int(input(\"Digite um dos fatores da múltiplicação: \"))\n",
    "fator2 = int(input(\"Digite o outro fator agora: \"))\n",
    "c = 0\n",
    "result = 0\n",
    "\n",
    "multiplicando = fator1\n",
    "multiplicador = fator2\n",
    "if fator1 < 0:\n",
    "    multiplicando *= -1\n",
    "if fator2 < 0:\n",
    "    multiplicador *= -1\n",
    "\n",
    "while c < multiplicador:\n",
    "    if fator1 > 0 and fator2 > 0 or fator1 < 0 and fator2 < 0:\n",
    "        result += multiplicando\n",
    "    else:\n",
    "        result -= multiplicando\n",
    "    c += 1\n",
    "print(f\"Resultado da multiplicação {fator1} x {fator2}: {result}\")"
   ]
  },
  {
   "cell_type": "markdown",
   "id": "114368da",
   "metadata": {},
   "source": [
    "### 10"
   ]
  },
  {
   "cell_type": "code",
   "execution_count": 114,
   "id": "af0f6a20",
   "metadata": {},
   "outputs": [
    {
     "name": "stdout",
     "output_type": "stream",
     "text": [
      "É um retângulo\n"
     ]
    }
   ],
   "source": [
    "l = float(input(\"Informe a largura da figura: \"))\n",
    "h = float(input(\"Informe a altura da figura: \"))\n",
    "\n",
    "if l == h:\n",
    "    print(\"É um quadrado\")\n",
    "else:\n",
    "    print(\"É um retângulo\")"
   ]
  },
  {
   "cell_type": "markdown",
   "id": "6f6edf5d",
   "metadata": {},
   "source": [
    "### 11"
   ]
  },
  {
   "cell_type": "code",
   "execution_count": 110,
   "id": "5d43a299",
   "metadata": {},
   "outputs": [
    {
     "name": "stdout",
     "output_type": "stream",
     "text": [
      "Aprovado com a nota 8.0\n"
     ]
    }
   ],
   "source": [
    "trabalho = float(input(\"Informe a nota do trabalho: \"))\n",
    "prova = float(input(\"Informe a nota da prova: \"))\n",
    "\n",
    "media = 0.25*trabalho + 0.75*prova\n",
    "\n",
    "if media < 7:\n",
    "    print(\"Está em exame.\")\n",
    "else:\n",
    "    print(f\"Aprovado com a nota {media}\")"
   ]
  },
  {
   "cell_type": "markdown",
   "id": "b63cd6bc",
   "metadata": {},
   "source": [
    "### 12"
   ]
  },
  {
   "cell_type": "code",
   "execution_count": 9,
   "id": "32b9480d",
   "metadata": {},
   "outputs": [
    {
     "name": "stdout",
     "output_type": "stream",
     "text": [
      "Peso normal.\n"
     ]
    }
   ],
   "source": [
    "h = float(input(\"Informe sua altura: \"))\n",
    "\n",
    "while True:\n",
    "    sexo = input(\"Informe seu sexo (M - homem ou F - mulher): \").lower()\n",
    "    if sexo == \"m\" or sexo == \"f\":\n",
    "        break\n",
    "\n",
    "peso = float(input(\"Informe seu peso: \"))\n",
    "if sexo == \"m\":\n",
    "    peso_ideal = 72.7*h-58\n",
    "else:\n",
    "    peso_ideal = 62.1*h-44.7\n",
    "if peso > peso_ideal*1.08:\n",
    "    print(\"Você está acima do peso.\")\n",
    "else:\n",
    "    if peso < peso_ideal*0.92:\n",
    "        print(\"Você está abaixo do peso.\")\n",
    "    else:\n",
    "        print(\"Peso normal.\")"
   ]
  },
  {
   "cell_type": "markdown",
   "id": "9706c289",
   "metadata": {},
   "source": [
    "### 13"
   ]
  },
  {
   "cell_type": "code",
   "execution_count": 17,
   "id": "babb2b3b",
   "metadata": {},
   "outputs": [
    {
     "name": "stdout",
     "output_type": "stream",
     "text": [
      "O valor difere mais de 4 graus entre celsius aproximados e a fórmula de celsius precisa.\n",
      "F = 200.0\n",
      "C = 93.33333333333333\n",
      "Caprox = 85.0\n",
      "Diferença: 8.333333333333329\n"
     ]
    }
   ],
   "source": [
    "while True:\n",
    "    fahrenheit = float(input(\"Informe a temperatura em fahrenheit\"))\n",
    "    if fahrenheit >= 0:\n",
    "        break\n",
    "    print(\"Os graus fahrenheit devem ser maiores ou iguais a zero.\")\n",
    "\n",
    "celsius_aprox = (fahrenheit - 30)/2\n",
    "\n",
    "celsius = (fahrenheit - 32)/1.8\n",
    "\n",
    "dif = celsius - celsius_aprox\n",
    "\n",
    "if dif > 4:\n",
    "    print(f\"O valor difere mais de 4 graus entre celsius aproximados e a fórmula de celsius precisa.\\nF = {fahrenheit}\\nC = {celsius}\\nCaprox = {celsius_aprox}\\nDiferença: {dif}\")\n",
    "else:\n",
    "    print(f\"O valor difere menos de 4 graus entre celsius aproximados e a fórmula de celsius precisa.\\nF = {fahrenheit}\\nC = {celsius}\\nCaprox = {celsius_aprox}\\nDiferença: {dif}\")"
   ]
  },
  {
   "cell_type": "markdown",
   "id": "674de4a7",
   "metadata": {},
   "source": [
    "### 14"
   ]
  },
  {
   "cell_type": "code",
   "execution_count": 45,
   "id": "cb7611d9",
   "metadata": {},
   "outputs": [
    {
     "name": "stdout",
     "output_type": "stream",
     "text": [
      "Distância percorrida na 1ª meia hora: 44.0km\n",
      "Distância percorrida na 2ª meia hora: 88.0km\n",
      "Distância percorrida na 3ª meia hora: 132.0km\n",
      "Distância percorrida na 4ª meia hora: 176.0km\n",
      "Distância percorrida na 5ª meia hora: 220.0km\n",
      "Distância percorrida na 6ª meia hora: 264.0km\n",
      "Distância percorrida na 7ª meia hora: 308.0km\n",
      "Distância percorrida na 8ª meia hora: 352.0km\n"
     ]
    }
   ],
   "source": [
    "kmh = 88\n",
    "t = 4\n",
    "c = 0\n",
    "distancia = 0\n",
    "\n",
    "while c < t*2:\n",
    "    distancia += kmh/2\n",
    "    print(f\"Distância percorrida na {c + 1}ª meia hora: {distancia}km\")\n",
    "    c += 1\n"
   ]
  },
  {
   "cell_type": "markdown",
   "id": "db68b7c4",
   "metadata": {},
   "source": [
    "### 15"
   ]
  },
  {
   "cell_type": "code",
   "execution_count": 91,
   "id": "8aa2ecb3",
   "metadata": {},
   "outputs": [
    {
     "name": "stdout",
     "output_type": "stream",
     "text": [
      "Triângulo existe!\n",
      "Triângulo isósceles.\n"
     ]
    }
   ],
   "source": [
    "a = float(input(\"Informe um lado A: \"))\n",
    "b = float(input(\"Informe um lado B: \"))\n",
    "c = float(input(\"Informe um lado C: \"))\n",
    "\n",
    "if a <= 0 or b <= 0 or c <= 0:\n",
    "    print(\"ERRO: Os lados devem ser maiores que zero.\")\n",
    "else:\n",
    "    if a + b <= c or a + c <= b or b + c <= a:\n",
    "        print(\"Triângulo inexistente.\")\n",
    "    else:\n",
    "        print(\"Triângulo existe!\")\n",
    "        if a == b and b == c:\n",
    "            print(\"Triângulo equilátero.\")\n",
    "        else:\n",
    "            if a == b or b == c or a == c:\n",
    "                print(\"Triângulo isósceles.\")\n",
    "            else:\n",
    "                print(\"Triângulo escaleno.\")\n",
    "            \n"
   ]
  },
  {
   "cell_type": "markdown",
   "id": "3a3d668e",
   "metadata": {},
   "source": [
    "### 16"
   ]
  },
  {
   "cell_type": "code",
   "execution_count": 120,
   "id": "d37cb0a5",
   "metadata": {},
   "outputs": [
    {
     "name": "stdout",
     "output_type": "stream",
     "text": [
      "delta = 2000.0\n",
      "x1 = 0.1\n",
      "x2 = -2.1\n",
      "raiz inteira de delta: 44.0\n"
     ]
    }
   ],
   "source": [
    "def sqrt(n):\n",
    "    l = 0\n",
    "    r = n\n",
    "    ans = -1\n",
    "    while l <= r:\n",
    "        m = (l+r)//2\n",
    "        if m * m == n:\n",
    "            return m\n",
    "        if m * m < n:\n",
    "            ans = m\n",
    "            l = m + 1\n",
    "        else:\n",
    "            if m * m > n:\n",
    "                r = m - 1\n",
    "    return ans\n",
    "\n",
    "a = float(input(\"Informe a da equação: \"))\n",
    "b = float(input(\"Informe b da equação: \"))\n",
    "c = float(input(\"Informe c da equação: \"))\n",
    "delta = b*b - 4*a*c\n",
    "if delta > 0:\n",
    "    x1 = (-b + sqrt(delta))/(2*a)\n",
    "    x2 = (-b - sqrt(delta))/(2*a)\n",
    "    print(f\"delta = {delta}\\nx1 = {x1}\\nx2 = {x2}\\nraiz inteira de delta: {sqrt(delta)}\")\n",
    "else:\n",
    "    if delta == 0:\n",
    "        x = -b/a\n",
    "        print(f\"delta = {delta}\\nx = {x}\")\n",
    "    else:\n",
    "        print(\"Não há raízes reais.\")"
   ]
  },
  {
   "cell_type": "markdown",
   "id": "cc3f0fe9",
   "metadata": {},
   "source": [
    "### 17"
   ]
  },
  {
   "cell_type": "code",
   "execution_count": 1,
   "id": "b5ab88a1",
   "metadata": {},
   "outputs": [
    {
     "name": "stdout",
     "output_type": "stream",
     "text": [
      "Distância percorrida: 200.0\n",
      "Litros de gasolina gastos: 14.285714285714286\n"
     ]
    }
   ],
   "source": [
    "kml = 14\n",
    "t = float(input(\"Informe o tempo gasto na viagem: \"))\n",
    "v = float(input(\"Informe a velocidade média da viagem: \"))\n",
    "d = v*t\n",
    "gasto_total = d/14\n",
    "print(f\"Distância percorrida: {d}\\nLitros de gasolina gastos: {gasto_total}\")"
   ]
  },
  {
   "cell_type": "markdown",
   "id": "12055ed0",
   "metadata": {},
   "source": [
    "### 18"
   ]
  },
  {
   "cell_type": "code",
   "execution_count": 2,
   "id": "d7b956cf",
   "metadata": {},
   "outputs": [
    {
     "name": "stdout",
     "output_type": "stream",
     "text": [
      "Salário bruto: 2000.0\n",
      "Desconto do INSS: 160.0\n",
      "Imposto de renda: 200.0\n",
      "Filiação sindical: 82.0\n",
      "Salário Líquido: 1558.0\n"
     ]
    }
   ],
   "source": [
    "bruto = float(input(\"Informe seu salário bruto: \"))\n",
    "inss = 0.08*bruto\n",
    "imposto_r = 0.1*bruto\n",
    "liquido = bruto - (inss + imposto_r)\n",
    "fil_sindical = 0.05 * liquido\n",
    "liquido = liquido - fil_sindical\n",
    "\n",
    "print(f\"Salário Bruto: {bruto}\\nDesconto do INSS: {inss}\\nImposto de renda: {imposto_r}\\nFiliação sindical: {fil_sindical}\\nSalário Líquido: {liquido}\")"
   ]
  },
  {
   "cell_type": "markdown",
   "id": "b68c50ce",
   "metadata": {},
   "source": [
    "### 19"
   ]
  },
  {
   "cell_type": "code",
   "execution_count": 21,
   "id": "ba381820",
   "metadata": {},
   "outputs": [
    {
     "name": "stdout",
     "output_type": "stream",
     "text": [
      "6.00\n",
      "Média menor que 7.\n"
     ]
    }
   ],
   "source": [
    "p1 = float(input(\"Informe a nota da prova 1: \"))\n",
    "t1 = float(input(\"Informe a nota do trabalho 1: \"))\n",
    "p2 = float(input(\"Informe a nota da prova 2: \"))\n",
    "t2 = float(input(\"Informe a nota do trabalho 2: \"))\n",
    "if p1 < 0 or p1 > 10 or p2 < 0 or p2 > 10 or t1 < 0 or t1 > 10 or t2 < 0 or t2 > 10:\n",
    "    print(\"ERRO: as notas são de 0 a 10.\")\n",
    "else:\n",
    "    nota = ((p1+p2)*0.7 + (t1+t2)*0.3)/2\n",
    "    print(f\"{nota:.2f}\")\n",
    "    if nota >= 7:\n",
    "        print(\"Passou por média\")\n",
    "    else:\n",
    "        print(\"Média menor que 7.\")"
   ]
  },
  {
   "cell_type": "markdown",
   "id": "8a504c9d",
   "metadata": {},
   "source": [
    "### 20"
   ]
  },
  {
   "cell_type": "code",
   "execution_count": 24,
   "id": "36adb8ed",
   "metadata": {},
   "outputs": [
    {
     "name": "stdout",
     "output_type": "stream",
     "text": [
      "Informe a idade de uma pessoa em:\n",
      "Em 2 anos, 3 meses e 4 dias há um total de 824 dias.\n"
     ]
    }
   ],
   "source": [
    "print(\"Informe a idade de uma pessoa em:\")\n",
    "anos = int(input(\"Anos: \"))\n",
    "meses = int(input(\"Meses:\"))\n",
    "dias = int(input(\"Dias: \"))\n",
    "if anos < 0 or meses < 0 or dias < 0:\n",
    "    print(\"ERRO: os dias, meses e anos não podem ser negativos.\")\n",
    "anos_dias = anos*365\n",
    "meses_dias = meses*30\n",
    "\n",
    "f_dias = dias + meses_dias + anos_dias\n",
    "\n",
    "print(f\"Em {anos} anos, {meses} meses e {dias} dias há um total de {f_dias} dias.\\nEssa pessoa tem {f_dias} dias de idade.\")"
   ]
  },
  {
   "cell_type": "markdown",
   "id": "8442f5b6",
   "metadata": {},
   "source": [
    "### 21"
   ]
  },
  {
   "cell_type": "code",
   "execution_count": 31,
   "id": "f9e2c1b7",
   "metadata": {},
   "outputs": [
    {
     "name": "stdout",
     "output_type": "stream",
     "text": [
      "A venda foi parcelada em 3x sem juros.\n",
      "O valor de cada parcela fica R$33.33\n",
      "A comissão do vendedor é R$7.00\n"
     ]
    }
   ],
   "source": [
    "valor = float(input(\"Valor total da venda: \"))\n",
    "vista = input(\"Foi à vista? (S ou N)\").lower()\n",
    "if vista == \"s\":\n",
    "    valor = valor * 0.9\n",
    "    comissao = 0.05 * valor\n",
    "    print(f\"Valor à vista: R${valor:.2f}\\nA comissão do vendedor é R${comissao:.2f}\")\n",
    "else:\n",
    "    if vista == \"n\":\n",
    "        print(\"A venda foi parcelada em 3x sem juros.\")\n",
    "        parcela = valor/3\n",
    "        comissao = 0.07 * valor\n",
    "        print(f\"O valor de cada parcela fica R${parcela:.2f}\\nA comissão do vendedor é R${comissao:.2f}\")\n",
    "    else:\n",
    "        print(\"ERRO: Informe ( s ) para SIM ou ( n ) para NÃO.\")"
   ]
  },
  {
   "cell_type": "markdown",
   "id": "44cd9ef0",
   "metadata": {},
   "source": [
    "### 22"
   ]
  },
  {
   "cell_type": "code",
   "execution_count": 33,
   "id": "6e3384ed",
   "metadata": {},
   "outputs": [
    {
     "name": "stdout",
     "output_type": "stream",
     "text": [
      "Você conseguiu colocar 2.0 litros de combustível no tanque.\n"
     ]
    }
   ],
   "source": [
    "p = float(input(\"Informe o preço do combustível: \"))\n",
    "v = float(input(\"Informe o valor que você vai abastecer: \"))\n",
    "l = v/p\n",
    "print(f\"Você conseguiu colocar {l} litros de combustível no tanque.\")"
   ]
  },
  {
   "cell_type": "markdown",
   "id": "e27d1150",
   "metadata": {},
   "source": [
    "### 23"
   ]
  },
  {
   "cell_type": "code",
   "execution_count": 37,
   "id": "d9bb7f1e",
   "metadata": {},
   "outputs": [
    {
     "name": "stdout",
     "output_type": "stream",
     "text": [
      "ERRO: número de camisas não pode ser negativo.\n"
     ]
    }
   ],
   "source": [
    "c_pequena = int(input(\"Informe quantas camisetas pequenas foram produzidas: \"))\n",
    "c_media = int(input(\"Informe quantas camisetas médias foram produzidas: \"))\n",
    "c_grande = int(input(\"Informe quantas camisetas grandes foram produzidas: \"))\n",
    "\n",
    "if c_pequena < 0 or c_media < 0 or c_grande < 0:\n",
    "    print(\"ERRO: número de camisas não pode ser negativo.\")\n",
    "else:\n",
    "    valor_p = c_pequena * 10\n",
    "    valor_m = c_media * 12\n",
    "    valor_g = c_grande * 15\n",
    "    valor_total = valor_p + valor_m + valor_g\n",
    "\n",
    "    print(f\"Foram arrecadados R${valor_total:.2f}.\")\n"
   ]
  },
  {
   "cell_type": "markdown",
   "id": "69e3e793",
   "metadata": {},
   "source": [
    "### 24"
   ]
  },
  {
   "cell_type": "code",
   "execution_count": 40,
   "id": "590e13c4",
   "metadata": {},
   "outputs": [
    {
     "name": "stdout",
     "output_type": "stream",
     "text": [
      "Restou R$873.6 do salário de João.\n"
     ]
    }
   ],
   "source": [
    "c1 = 200\n",
    "c2 = 120\n",
    "\n",
    "salario = 1200\n",
    "\n",
    "c1 = c1*1.02\n",
    "c2 = c2*1.02\n",
    "\n",
    "salario = 1200-(c1+c2)\n",
    "\n",
    "print(f\"Restou R${salario} do salário de João.\")"
   ]
  },
  {
   "cell_type": "markdown",
   "id": "f02d650d",
   "metadata": {},
   "source": [
    "### 25"
   ]
  },
  {
   "cell_type": "code",
   "execution_count": 43,
   "id": "83c5d886",
   "metadata": {},
   "outputs": [
    {
     "name": "stdout",
     "output_type": "stream",
     "text": [
      "A velocidade 36.0km/h é equivalente a 10.0m/s.\n"
     ]
    }
   ],
   "source": [
    "vkmh = float(input(\"Informe a velocidade em km/h: \"))\n",
    "vms = vkmh/3.6\n",
    "print(f\"A velocidade {vkmh}km/h é equivalente a {vms}m/s.\")"
   ]
  },
  {
   "cell_type": "markdown",
   "id": "2f56715a",
   "metadata": {},
   "source": [
    "### 26"
   ]
  },
  {
   "cell_type": "code",
   "execution_count": 45,
   "id": "0da12cd6",
   "metadata": {},
   "outputs": [
    {
     "name": "stdout",
     "output_type": "stream",
     "text": [
      "Altura do prédio: 20.0\n"
     ]
    }
   ],
   "source": [
    "pessoa_sombra = float(input(\"Informe a medida da sua sombra: \"))\n",
    "predio_sombra = float(input(\"Informe a medida da sombra do prédio: \"))\n",
    "pessoa_altura = float(input(\"Informe a sua altura: \"))\n",
    "predio_altura = pessoa_altura*predio_sombra/pessoa_sombra\n",
    "\n",
    "print(f\"Altura do prédio: {predio_altura}\")"
   ]
  },
  {
   "cell_type": "markdown",
   "id": "76b73754",
   "metadata": {},
   "source": [
    "### 27"
   ]
  },
  {
   "cell_type": "code",
   "execution_count": 55,
   "id": "678c8119",
   "metadata": {},
   "outputs": [
    {
     "name": "stdout",
     "output_type": "stream",
     "text": [
      "Matrícula do aluno com maior nota: 2 (Nota: 10.0)\n",
      "Matrícula do aluno com menor nota: 1 (Nota: 5.0)\n"
     ]
    }
   ],
   "source": [
    "alunos = int(input(\"Informe quantos alunos tem na turma: \"))\n",
    "if alunos <= 0:\n",
    "    print(\"ERRO: número de alunos da turma não pode ser nulo ou negativo.\")\n",
    "else:\n",
    "    c = 0\n",
    "    maior = -1\n",
    "    menor = float('inf')\n",
    "    while c < alunos:\n",
    "        matricula = input(f\"Informe a matrícula do aluno {c+1}: \")\n",
    "        while True:\n",
    "            nota = float(input(f\"Informe a nota do aluno {c+1}: \"))\n",
    "            if nota >= 0 and nota <= 10:\n",
    "                break\n",
    "        if nota > maior:\n",
    "            maior = nota\n",
    "            matricula_maior = matricula\n",
    "        if nota < menor:\n",
    "            menor = nota\n",
    "            matricula_menor = matricula\n",
    "        c += 1\n",
    "\n",
    "    print(f\"Matrícula do aluno com maior nota: {matricula_maior} (Nota: {maior})\\nMatrícula do aluno com menor nota: {matricula_menor} (Nota: {menor})\")"
   ]
  },
  {
   "cell_type": "markdown",
   "id": "413a67a8",
   "metadata": {},
   "source": [
    "### 28"
   ]
  },
  {
   "cell_type": "code",
   "execution_count": 58,
   "id": "ebf344ec",
   "metadata": {},
   "outputs": [
    {
     "name": "stdout",
     "output_type": "stream",
     "text": [
      "100\n",
      "99\n",
      "98\n",
      "97\n",
      "96\n",
      "95\n",
      "94\n",
      "93\n",
      "92\n",
      "91\n",
      "90\n",
      "89\n",
      "88\n",
      "87\n",
      "86\n",
      "85\n",
      "84\n",
      "83\n",
      "82\n",
      "81\n",
      "80\n",
      "79\n",
      "78\n",
      "77\n",
      "76\n",
      "75\n",
      "74\n",
      "73\n",
      "72\n",
      "71\n",
      "70\n",
      "69\n",
      "68\n",
      "67\n",
      "66\n",
      "65\n",
      "64\n",
      "63\n",
      "62\n",
      "61\n",
      "60\n",
      "59\n",
      "58\n",
      "57\n",
      "56\n",
      "55\n",
      "54\n",
      "53\n",
      "52\n",
      "51\n",
      "50\n",
      "49\n",
      "48\n",
      "47\n",
      "46\n",
      "45\n",
      "44\n",
      "43\n",
      "42\n",
      "41\n",
      "40\n",
      "39\n",
      "38\n",
      "37\n",
      "36\n",
      "35\n",
      "34\n",
      "33\n",
      "32\n",
      "31\n",
      "30\n",
      "29\n",
      "28\n",
      "27\n",
      "26\n",
      "25\n",
      "24\n",
      "23\n",
      "22\n",
      "21\n",
      "20\n",
      "19\n",
      "18\n",
      "17\n",
      "16\n",
      "15\n",
      "14\n",
      "13\n",
      "12\n",
      "11\n",
      "10\n",
      "9\n",
      "8\n",
      "7\n",
      "6\n",
      "5\n",
      "4\n",
      "3\n",
      "2\n",
      "1\n"
     ]
    }
   ],
   "source": [
    "n = int(input(\"Informe um número inteiro positivo: \"))\n",
    "if n <= 0:\n",
    "    print(\"ERRO: informe um número inteiro positivo!\")\n",
    "else:\n",
    "    c = 0\n",
    "    while c < n:\n",
    "        print(n-c)\n",
    "        c += 1"
   ]
  },
  {
   "cell_type": "markdown",
   "id": "a9fe40c3",
   "metadata": {},
   "source": [
    "### 29"
   ]
  },
  {
   "cell_type": "code",
   "execution_count": null,
   "id": "7d741b1d",
   "metadata": {},
   "outputs": [
    {
     "name": "stdout",
     "output_type": "stream",
     "text": [
      "Valor do equipamento: 10000.0\n",
      "\n",
      "ANO      DEPRECIAÇÃO      VALOR NO FIM DO ANO        DEPRECIAÇÃO ACUMULADA\n",
      "1         2300.0            7700.0                         2300.0\n",
      "2         2300.0            5400.0                         4600.0\n",
      "3         2300.0            3100.0                         6900.0\n",
      "4         2300.0            800.0                         9200.0\n",
      "5         2300.0            0                         10000.0\n"
     ]
    }
   ],
   "source": [
    "while True:\n",
    "    valor_equip = float(input(\"Informe o valor do equipamento: \"))\n",
    "    if valor_equip > 0:\n",
    "        break\n",
    "    print(\"Informe um valor não negativo.\")\n",
    "taxa_depre = float(input(\"Informe a taxa de depreciação: \"))\n",
    "valor_aux = valor_equip\n",
    "depre_acumulada = 0\n",
    "c = 0\n",
    "print(f\"Valor do equipamento: {valor_equip}\\n\\nANO      DEPRECIAÇÃO      VALOR NO FIM DO ANO        DEPRECIAÇÃO ACUMULADA\")\n",
    "while valor_aux > 0:\n",
    "    valor_aux -= taxa_depre\n",
    "    if(valor_aux < 0):\n",
    "        depre_acumulada += taxa_depre + valor_aux\n",
    "        valor_aux = 0\n",
    "    else:    \n",
    "        depre_acumulada += taxa_depre\n",
    "    c += 1\n",
    "    print(f\"{c}         {taxa_depre}            {valor_aux}                         {depre_acumulada}\")"
   ]
  },
  {
   "cell_type": "markdown",
   "id": "82f2f2fc",
   "metadata": {},
   "source": [
    "### 30"
   ]
  },
  {
   "cell_type": "code",
   "execution_count": 4,
   "id": "61c37070",
   "metadata": {},
   "outputs": [
    {
     "name": "stdout",
     "output_type": "stream",
     "text": [
      "                       Hodômetro (km)        Litros (l)        Consumo médio (km/l)        Consumo médio acumulativo (km/l)\n",
      "\n",
      "Início da viagem:            10.0                Tanque Cheio\n",
      "                             20.0                10.0                \n",
      "                             20.0                30.0                0.0                          0.0\n",
      "                             40.0                50.0                0.6666666666666666                          0.5\n",
      "A quilometragem não pode estar menor que a quilometragem anterior.\n",
      "A quilometragem não pode estar menor que a quilometragem anterior.\n",
      "A quilometragem não pode estar menor que a quilometragem anterior.\n",
      "                             100.0                20.0                1.2                          0.6666666666666666\n",
      "A quilometragem não pode estar menor que a quilometragem anterior.\n",
      "A quilometragem não pode estar menor que a quilometragem anterior.\n",
      "                             200.0                10.0                5.0                          0.9090909090909091\n"
     ]
    },
    {
     "ename": "ValueError",
     "evalue": "could not convert string to float: ''",
     "output_type": "error",
     "traceback": [
      "\u001b[31m---------------------------------------------------------------------------\u001b[39m",
      "\u001b[31mValueError\u001b[39m                                Traceback (most recent call last)",
      "\u001b[36mCell\u001b[39m\u001b[36m \u001b[39m\u001b[32mIn[4]\u001b[39m\u001b[32m, line 8\u001b[39m\n\u001b[32m      6\u001b[39m \u001b[38;5;28mprint\u001b[39m(\u001b[33m\"\u001b[39m\u001b[33m                       Hodômetro (km)        Litros (l)        Consumo médio (km/l)        Consumo médio acumulativo (km/l)\u001b[39m\u001b[38;5;130;01m\\n\u001b[39;00m\u001b[33m\"\u001b[39m)\n\u001b[32m      7\u001b[39m \u001b[38;5;28;01mwhile\u001b[39;00m \u001b[38;5;28;01mTrue\u001b[39;00m:\n\u001b[32m----> \u001b[39m\u001b[32m8\u001b[39m     km = \u001b[38;5;28;43mfloat\u001b[39;49m\u001b[43m(\u001b[49m\u001b[38;5;28;43minput\u001b[39;49m\u001b[43m(\u001b[49m\u001b[33;43mf\u001b[39;49m\u001b[33;43m\"\u001b[39;49m\u001b[33;43mInforme a quilometragem marcada no hodômetro no abastecimento \u001b[39;49m\u001b[38;5;132;43;01m{\u001b[39;49;00m\u001b[43mc\u001b[49m\u001b[38;5;132;43;01m}\u001b[39;49;00m\u001b[33;43m da viagem: \u001b[39;49m\u001b[33;43m\"\u001b[39;49m\u001b[43m)\u001b[49m\u001b[43m)\u001b[49m\n\u001b[32m      9\u001b[39m     \u001b[38;5;28;01mif\u001b[39;00m km == \u001b[32m0\u001b[39m:\n\u001b[32m     10\u001b[39m         \u001b[38;5;28;01mbreak\u001b[39;00m\n",
      "\u001b[31mValueError\u001b[39m: could not convert string to float: ''"
     ]
    }
   ],
   "source": [
    "c = 0\n",
    "litros = 0\n",
    "km1 = 0\n",
    "consumo_m = \"\"\n",
    "consumo_ac = \"\"\n",
    "print(\"                       Hodômetro (km)        Litros (l)        Consumo médio (km/l)        Consumo médio cumulativo (km/l)\\n\")\n",
    "while True:\n",
    "    km = float(input(f\"Informe a quilometragem marcada no hodômetro no abastecimento {c} da viagem (informe zero para parar o programa): \"))\n",
    "    if km == 0:\n",
    "        break\n",
    "    if c == 0:\n",
    "        km_ant = km\n",
    "        km1 = km\n",
    "        print(f\"Início da viagem:            {km1}                Tanque Cheio\")\n",
    "    else:\n",
    "        if km_ant > km:\n",
    "            print(\"A quilometragem não pode estar menor que a quilometragem anterior.\")\n",
    "            continue\n",
    "        km_final = km\n",
    "        string = f\"                             {km}\"\n",
    "        if c > 1 and abast != 0:\n",
    "            consumo_m = (km - km_ant)/abast  \n",
    "        abast = float(input(\"Informe o abastecimento em litros: \"))\n",
    "        if litros > 0:\n",
    "            consumo_ac = (km - km_ant)/litros\n",
    "        litros += abast\n",
    "        km_ant = km \n",
    "        string += f\"                {abast}                \"\n",
    "        if c > 1:\n",
    "            string += f\"{consumo_m}                          {consumo_ac}\"\n",
    "        print(string)\n",
    "    c += 1\n",
    "if litros != 0:\n",
    "    consumo_ac = (km_final-km1)/litros\n",
    "    print(f\"( {km_final} ) e (  {km1}  )\")\n",
    "    print(f\"O consumo médio cumulativo da viagem foi de: {consumo_ac}km/l\")\n",
    "print(\"------ Programa finalizado ------\")"
   ]
  },
  {
   "cell_type": "markdown",
   "id": "53e7f767",
   "metadata": {},
   "source": [
    "### 31"
   ]
  },
  {
   "cell_type": "code",
   "execution_count": 13,
   "id": "07370ba7",
   "metadata": {},
   "outputs": [
    {
     "name": "stdout",
     "output_type": "stream",
     "text": [
      "O bebê mais pesado é:\n",
      "\n",
      "N° de identificação: 10\n",
      "Nome: 20\n",
      "Peso: 40.0\n",
      "\n",
      "O bebê mais leve é:\n",
      "\n",
      "N° de identificação: 10\n",
      "Nome: 20\n",
      "Peso: 30.0kg\n",
      "\n",
      "A média de peso dos bebês é: 35.0kg\n"
     ]
    }
   ],
   "source": [
    "pesado = 0\n",
    "leve = float(\"inf\")\n",
    "c = 0\n",
    "soma_peso = 0\n",
    "while True:\n",
    "    nr_id = input(f\"Informe o número de identificação do bebê {c+1} (informe 0 para parar o programa): \")\n",
    "    if(nr_id != \"0\"):\n",
    "        nome = input(f\"Informe o nome do bebê {c+1}: \")\n",
    "        while True:\n",
    "            peso = float(input(f\"Informe o peso do bebê {c+1}: \"))\n",
    "            if peso > 0:\n",
    "                break\n",
    "            print(\"O bebê deve ter peso maior que zero.\")\n",
    "        soma_peso += peso\n",
    "        if peso > pesado:\n",
    "            pesado = peso\n",
    "            nome_pesado = nome\n",
    "            nr_id_pesado = nr_id\n",
    "        if peso < leve:\n",
    "            leve = peso\n",
    "            nome_leve = nome\n",
    "            nr_id_leve = nr_id\n",
    "        c += 1\n",
    "    else:\n",
    "        break\n",
    "if pesado !=0 and leve != float(\"inf\"):\n",
    "    media_peso = soma_peso/c\n",
    "    print(f\"O bebê mais pesado é:\\n\\nN° de identificação: {nr_id_pesado}\\nNome: {nome_pesado}\\nPeso: {pesado}\\n\\nO bebê mais leve é:\\n\\nN° de identificação: {nr_id_leve}\\nNome: {nome_leve}\\nPeso: {leve}kg\\n\\nA média de peso dos bebês é: {media_peso}kg\")\n",
    "else:\n",
    "    print(\"Nenhum bebê foi informado.\")"
   ]
  },
  {
   "cell_type": "markdown",
   "id": "17a23c05",
   "metadata": {},
   "source": [
    "### 32"
   ]
  },
  {
   "cell_type": "code",
   "execution_count": 18,
   "id": "98011fb6",
   "metadata": {},
   "outputs": [
    {
     "name": "stdout",
     "output_type": "stream",
     "text": [
      "BEM VINDO AO MERCADINHO TAURA\n",
      "Você deve pagar um total de R$65.00\n"
     ]
    }
   ],
   "source": [
    "print(\"BEM VINDO AO MERCADINHO TAURA\")\n",
    "valor_total = 0\n",
    "while True:\n",
    "    codigo = input(\"Digite o código do item (para parar o programa, digite um código inexistente no sistema): \")\n",
    "    if (codigo == \"1\" or codigo == \"2\" or codigo == \"3\" or codigo == \"4\" or codigo == \"5\"):\n",
    "        if codigo == \"1\":\n",
    "            preco = 4\n",
    "        if codigo == \"2\":\n",
    "            preco = 4.5\n",
    "        if codigo == \"3\":\n",
    "            preco = 5\n",
    "        if codigo == \"4\":\n",
    "            preco = 2\n",
    "        if codigo == \"5\":\n",
    "            preco = 3\n",
    "        quantidade = int(input(f\"Informe a quantidade do item {1}: \"))\n",
    "        valor = preco*quantidade\n",
    "        valor_total += valor\n",
    "    else:\n",
    "        break\n",
    "if valor_total == 0:\n",
    "    print(\"Nada foi consumido.\")\n",
    "else:\n",
    "    print(f\"Você deve pagar um total de R${valor_total:.2f}\")"
   ]
  },
  {
   "cell_type": "markdown",
   "id": "4803abc3",
   "metadata": {},
   "source": [
    "### 33"
   ]
  },
  {
   "cell_type": "code",
   "execution_count": 34,
   "id": "bf82fbd0",
   "metadata": {},
   "outputs": [
    {
     "name": "stdout",
     "output_type": "stream",
     "text": [
      "Horário formado com 60.0 segundos: 00:01:00\n"
     ]
    }
   ],
   "source": [
    "while True:\n",
    "    segundos_totais = float(input(\"Informe os segundos totais: \"))\n",
    "    if segundos_totais < 0:\n",
    "        print(\"Os segundos totais não podem ser negativos.\")\n",
    "    else:\n",
    "        break\n",
    "# // -> Divisão inteira ex: 5//2 = 2\n",
    "# % -> Resto da divisão ex: 5%2 = 1\n",
    "horas = segundos_totais // 3600\n",
    "segundos_residuais = segundos_totais % 3600\n",
    "minutos = segundos_residuais // 60\n",
    "segundos_residuais = segundos_residuais % 60\n",
    "segundos = segundos_residuais\n",
    "print(f\"Horário formado com {segundos_totais} segundos: {horas:02.0f}:{minutos:02.0f}:{segundos:02.0f}\")"
   ]
  },
  {
   "cell_type": "markdown",
   "id": "c3767d05",
   "metadata": {},
   "source": [
    "### 34"
   ]
  },
  {
   "cell_type": "code",
   "execution_count": null,
   "id": "b74696fb",
   "metadata": {},
   "outputs": [],
   "source": [
    "c = 0\n",
    "mulheres = 0\n",
    "homens = 0\n",
    "peso_m = 0\n",
    "peso_f = 0\n",
    "while c < 250:\n",
    "    nome = input(\"Informe o nome da pessoa: \")\n",
    "    altura = float(input(\"Informe a altura da pessoa: \"))\n",
    "    peso = float(input(\"Informe o peso da pessoa: \"))\n",
    "    while True:\n",
    "        sexo = input(\"Informe o sexo da pessoa (M ou F): \").lower\n",
    "        if sexo == \"f\" or sexo == \"m\":\n",
    "            break\n",
    "        print(\"Informe \\\"M\\\" ou \\\"F\\\" para sexo.\")\n",
    "    if sexo == \"f\":\n",
    "        mulheres += 1\n",
    "        peso_f += peso\n",
    "    else:\n",
    "        homens += 1\n",
    "        peso_m += peso\n",
    "media_peso_m = peso_m/homens\n",
    "media_peso_f = peso_f/mulheres\n",
    "perc_homens = (homens/250)*100\n",
    "perc_mulheres = (mulheres/250)*100\n",
    "\n",
    "print(f\"A quantidade total de homens é {homens} e o percentual com relação ao total de 250 pessoas é {perc_homens}%.\\nA quantidade total de mulheres é {mulheres} e o percentual com relação ao total de 250 pessoas é {perc_mulheres}%.\\n\\nMédia de peso dos homens: {media_peso_m}\\nMédia de peso das mulheres: {media_peso_f}\")"
   ]
  },
  {
   "cell_type": "markdown",
   "id": "a2e6b70c",
   "metadata": {},
   "source": [
    "### 35"
   ]
  },
  {
   "cell_type": "code",
   "execution_count": 41,
   "id": "d146587c",
   "metadata": {},
   "outputs": [
    {
     "name": "stdout",
     "output_type": "stream",
     "text": [
      "Tempo que levou para reduzir 20.0 gramas de gelo para menos que 0.5 gramas: 00:05:00\n"
     ]
    }
   ],
   "source": [
    "segundos = 0\n",
    "while True:\n",
    "    massa = float(input(\"Informe a massa do cubo de gelo em gramas, maior ou igual a 0.5 gramas: \"))\n",
    "    if massa >= 0.5:\n",
    "        break\n",
    "massa_inicial = massa\n",
    "while massa >= 0.5:\n",
    "    massa = massa/2\n",
    "    segundos += 50\n",
    "horas = segundos // 3600\n",
    "segundos_residuais = segundos % 3600\n",
    "minutos = segundos_residuais // 60\n",
    "segundos_residuais = segundos_residuais % 60\n",
    "segundos = segundos_residuais\n",
    "print(f\"Tempo que levou para reduzir {massa_inicial} gramas de gelo para menos que 0.5 gramas: {horas:02.0f}:{minutos:02.0f}:{segundos:02.0f}\")"
   ]
  },
  {
   "cell_type": "markdown",
   "id": "f8cfec7b",
   "metadata": {},
   "source": [
    "### 36"
   ]
  },
  {
   "cell_type": "code",
   "execution_count": 50,
   "id": "f3543e82",
   "metadata": {},
   "outputs": [
    {
     "name": "stdout",
     "output_type": "stream",
     "text": [
      "101\n",
      "103\n",
      "107\n",
      "109\n",
      "113\n",
      "127\n",
      "131\n",
      "137\n",
      "139\n",
      "149\n",
      "151\n",
      "157\n",
      "163\n",
      "167\n",
      "173\n",
      "179\n",
      "181\n",
      "191\n",
      "193\n",
      "197\n",
      "199\n",
      "211\n",
      "223\n",
      "227\n",
      "229\n",
      "233\n",
      "239\n",
      "241\n",
      "251\n",
      "257\n",
      "263\n",
      "269\n",
      "271\n",
      "277\n",
      "281\n",
      "283\n",
      "293\n",
      "307\n",
      "311\n",
      "313\n",
      "317\n",
      "331\n",
      "337\n",
      "347\n",
      "349\n",
      "353\n",
      "359\n",
      "367\n",
      "373\n",
      "379\n",
      "383\n",
      "389\n",
      "397\n",
      "401\n",
      "409\n",
      "419\n",
      "421\n",
      "431\n",
      "433\n",
      "439\n",
      "443\n",
      "449\n",
      "457\n",
      "461\n",
      "463\n",
      "467\n",
      "479\n",
      "487\n",
      "491\n",
      "499\n",
      "503\n",
      "509\n",
      "521\n",
      "523\n",
      "541\n",
      "547\n",
      "557\n",
      "563\n",
      "569\n",
      "571\n",
      "577\n",
      "587\n",
      "593\n",
      "599\n",
      "601\n",
      "607\n",
      "613\n",
      "617\n",
      "619\n",
      "631\n",
      "641\n",
      "643\n",
      "647\n",
      "653\n",
      "659\n",
      "661\n",
      "673\n",
      "677\n",
      "683\n",
      "691\n",
      "701\n",
      "709\n",
      "719\n",
      "727\n",
      "733\n",
      "739\n",
      "743\n",
      "751\n",
      "757\n",
      "761\n",
      "769\n",
      "773\n",
      "787\n",
      "797\n",
      "809\n",
      "811\n",
      "821\n",
      "823\n",
      "827\n",
      "829\n",
      "839\n",
      "853\n",
      "857\n",
      "859\n",
      "863\n",
      "877\n",
      "881\n",
      "883\n",
      "887\n",
      "907\n",
      "911\n",
      "919\n",
      "929\n",
      "937\n",
      "941\n",
      "947\n",
      "953\n",
      "967\n",
      "971\n",
      "977\n",
      "983\n",
      "991\n",
      "997\n"
     ]
    }
   ],
   "source": [
    "from math import sqrt\n",
    "\n",
    "n = 100\n",
    "while n <= 1000:\n",
    "    primo = True\n",
    "    i = int(sqrt(n))\n",
    "    while i > 1:\n",
    "        if n % i == 0:\n",
    "            primo = False\n",
    "        i -= 1\n",
    "    if primo:\n",
    "        print(n)\n",
    "    n += 1"
   ]
  }
 ],
 "metadata": {
  "kernelspec": {
   "display_name": "Python 3",
   "language": "python",
   "name": "python3"
  },
  "language_info": {
   "codemirror_mode": {
    "name": "ipython",
    "version": 3
   },
   "file_extension": ".py",
   "mimetype": "text/x-python",
   "name": "python",
   "nbconvert_exporter": "python",
   "pygments_lexer": "ipython3",
   "version": "3.12.4"
  }
 },
 "nbformat": 4,
 "nbformat_minor": 5
}
